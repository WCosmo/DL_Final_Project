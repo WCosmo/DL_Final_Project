{
  "nbformat": 4,
  "nbformat_minor": 0,
  "metadata": {
    "colab": {
      "provenance": [],
      "authorship_tag": "ABX9TyPj1YmCZDVba7r4kh99gIil",
      "include_colab_link": true
    },
    "kernelspec": {
      "name": "python3",
      "display_name": "Python 3"
    },
    "language_info": {
      "name": "python"
    }
  },
  "cells": [
    {
      "cell_type": "markdown",
      "metadata": {
        "id": "view-in-github",
        "colab_type": "text"
      },
      "source": [
        "<a href=\"https://colab.research.google.com/github/WCosmo/DL_Final_Project/blob/main/DL_final_project_chatbot.ipynb\" target=\"_parent\"><img src=\"https://colab.research.google.com/assets/colab-badge.svg\" alt=\"Open In Colab\"/></a>"
      ]
    },
    {
      "cell_type": "code",
      "source": [
        "'''\n",
        "DL - Final Project\n",
        "Project Name: LSTM Chatbot\n",
        "Student: Wilson Cosmo\n",
        "Date: 06/12/2022\n",
        "\n",
        "'''"
      ],
      "metadata": {
        "id": "hAFxUZ_y7525"
      },
      "execution_count": null,
      "outputs": []
    },
    {
      "cell_type": "code",
      "source": [
        "if 'google.colab' in str(get_ipython()):\n",
        "    import sys\n",
        "    import os\n",
        "    try:\n",
        "      !git clone https://github.com/WCosmo/DL_Final_Project.git\n",
        "    except:\n",
        "      print(\"DL_Final_Project is already in the contents\")    "
      ],
      "metadata": {
        "id": "AmRmd5d16ija"
      },
      "execution_count": null,
      "outputs": []
    },
    {
      "cell_type": "code",
      "source": [
        "import tensorflow as tf\n",
        "from tensorflow import keras\n",
        "from keras.layers import Input, LSTM, Dense\n",
        "from keras.models import Model\n",
        "from keras.callbacks import ModelCheckpoint\n",
        "from keras.models import load_model\n",
        "\n",
        "import matplotlib.pyplot as plt\n",
        "import numpy as np\n",
        "import random\n",
        "import re\n",
        "import os"
      ],
      "metadata": {
        "id": "fhFiJfd2Q3-r"
      },
      "execution_count": 167,
      "outputs": []
    },
    {
      "cell_type": "code",
      "source": [
        "!cd DL_Final_Project/base_dataset/"
      ],
      "metadata": {
        "id": "kjw1arrM7BbH"
      },
      "execution_count": 168,
      "outputs": []
    },
    {
      "cell_type": "code",
      "source": [
        "data_i = 'data_input.chat'\n",
        "data_o = 'data_output.chat'"
      ],
      "metadata": {
        "id": "Y9P5OcI2hr9v"
      },
      "execution_count": 169,
      "outputs": []
    },
    {
      "cell_type": "code",
      "source": [
        "n_pair = 276 #number of pairs\n",
        "start_point = 10 #modify to skip some lines\n",
        "f1 = open(data_i, 'r')\n",
        "f2 = open(data_o, 'r')"
      ],
      "metadata": {
        "id": "QyM4_ibsjPJ-"
      },
      "execution_count": 170,
      "outputs": []
    },
    {
      "cell_type": "code",
      "source": [
        "def data_clean(n_line):  \n",
        "  char_out = {46: None, 44: None, 10: None} # . , /n\n",
        "  buffer = n_line.translate(char_out)\n",
        "  return buffer"
      ],
      "metadata": {
        "id": "KdEMXglNMnMC"
      },
      "execution_count": 171,
      "outputs": []
    },
    {
      "cell_type": "code",
      "source": [
        "l1 = []\n",
        "l2 = []\n",
        "i = 0\n",
        "\n",
        "for i in range(n_pair):\n",
        "\n",
        "  s_buff = f1.readline(i+start_point)   \n",
        "  if data_clean(s_buff) != '':\n",
        "    l1.append(data_clean(s_buff))   \n",
        "\n",
        "  s_buff = f2.readline(i+start_point)\n",
        "  if data_clean(s_buff) != '':\n",
        "    l2.append(data_clean(s_buff))  \n"
      ],
      "metadata": {
        "id": "JM-U_79Fhvvc"
      },
      "execution_count": 198,
      "outputs": []
    },
    {
      "cell_type": "code",
      "source": [
        "pairs = list(zip(l1,l2))"
      ],
      "metadata": {
        "id": "KTa437ptjgXG"
      },
      "execution_count": 173,
      "outputs": []
    },
    {
      "cell_type": "code",
      "source": [
        "pairs[25:35] #debug"
      ],
      "metadata": {
        "id": "b7qSGv-e5zWk"
      },
      "execution_count": null,
      "outputs": []
    },
    {
      "cell_type": "code",
      "source": [
        "input_docs = []\n",
        "target_docs = []\n",
        "input_tokens = set()\n",
        "target_tokens = set()"
      ],
      "metadata": {
        "id": "zNLVw9wuk_It"
      },
      "execution_count": 175,
      "outputs": []
    },
    {
      "cell_type": "code",
      "source": [
        "for line in pairs[:n_pair]:\n",
        "  input_doc, target_doc = line[0], line[1]\n",
        "  # Appending each input sentence to input_docs\n",
        "  input_docs.append(input_doc)\n",
        "  # Splitting words from punctuation  \n",
        "  target_doc = \" \".join(re.findall(r\"[\\w']+|[^\\s\\w]\", target_doc))\n",
        "  # Redefine target_doc below and append it to target_docs\n",
        "  target_doc = '<START> ' + target_doc + ' <END>'\n",
        "  target_docs.append(target_doc)\n",
        "  \n",
        "  # Now we split up each sentence into words and add each unique word to our vocabulary set\n",
        "  for token in re.findall(r\"[\\w']+|[^\\s\\w]\", input_doc):\n",
        "    if token not in input_tokens:\n",
        "      input_tokens.add(token)\n",
        "  for token in target_doc.split():\n",
        "    if token not in target_tokens:\n",
        "      target_tokens.add(token)\n",
        "\n",
        "input_tokens = sorted(list(input_tokens))\n",
        "target_tokens = sorted(list(target_tokens))\n",
        "num_encoder_tokens = len(input_tokens)\n",
        "num_decoder_tokens = len(target_tokens)"
      ],
      "metadata": {
        "id": "T0Pj1ZeilEW8"
      },
      "execution_count": 176,
      "outputs": []
    },
    {
      "cell_type": "code",
      "source": [
        "input_tokens #debug"
      ],
      "metadata": {
        "id": "xXIHyI59-4cD"
      },
      "execution_count": null,
      "outputs": []
    },
    {
      "cell_type": "code",
      "source": [
        "input_features_dict = dict(\n",
        "    [(token, i) for i, token in enumerate(input_tokens)])\n",
        "target_features_dict = dict(\n",
        "    [(token, i) for i, token in enumerate(target_tokens)])\n",
        "reverse_input_features_dict = dict(\n",
        "    (i, token) for token, i in input_features_dict.items())\n",
        "reverse_target_features_dict = dict(\n",
        "    (i, token) for token, i in target_features_dict.items())"
      ],
      "metadata": {
        "id": "mdgZdVDjlfP_"
      },
      "execution_count": 177,
      "outputs": []
    },
    {
      "cell_type": "code",
      "source": [
        "#Maximum length of sentences in input and target documents\n",
        "max_encoder_seq_length = max([len(re.findall(r\"[\\w']+|[^\\s\\w]\", input_doc)) for input_doc in input_docs])\n",
        "max_decoder_seq_length = max([len(re.findall(r\"[\\w']+|[^\\s\\w]\", target_doc)) for target_doc in target_docs])\n",
        "encoder_input_data = np.zeros(\n",
        "    (len(input_docs), max_encoder_seq_length, num_encoder_tokens),\n",
        "    dtype='float32')\n",
        "decoder_input_data = np.zeros(\n",
        "    (len(input_docs), max_decoder_seq_length, num_decoder_tokens),\n",
        "    dtype='float32')\n",
        "decoder_target_data = np.zeros(\n",
        "    (len(input_docs), max_decoder_seq_length, num_decoder_tokens),\n",
        "    dtype='float32')\n",
        "for line, (input_doc, target_doc) in enumerate(zip(input_docs, target_docs)):\n",
        "    for timestep, token in enumerate(re.findall(r\"[\\w']+|[^\\s\\w]\", input_doc)):\n",
        "        #Assign 1. for the current line, timestep, & word in encoder_input_data\n",
        "        encoder_input_data[line, timestep, input_features_dict[token]] = 1.\n",
        "    \n",
        "    for timestep, token in enumerate(target_doc.split()):\n",
        "        decoder_input_data[line, timestep, target_features_dict[token]] = 1.\n",
        "        if timestep > 0:\n",
        "            decoder_target_data[line, timestep - 1, target_features_dict[token]] = 1."
      ],
      "metadata": {
        "id": "7zefLooKllFm"
      },
      "execution_count": 178,
      "outputs": []
    },
    {
      "cell_type": "code",
      "source": [
        "encoder_input_data.shape #debug"
      ],
      "metadata": {
        "id": "n-G21pfpdQp_"
      },
      "execution_count": null,
      "outputs": []
    },
    {
      "cell_type": "code",
      "source": [
        "#Dimensionality\n",
        "dimensionality = 256\n",
        "\n",
        "#The batch size and number of epochs\n",
        "batch_size = 16\n",
        "epochs = 250\n",
        "\n",
        "opt=keras.optimizers.RMSprop(learning_rate=1e-3) #optimizer\n",
        "\n",
        "#Encoder\n",
        "encoder_inputs = Input(shape=(None, num_encoder_tokens))\n",
        "encoder_lstm = LSTM(dimensionality, return_state=True, dropout=0.2)\n",
        "encoder_outputs, state_hidden, state_cell = encoder_lstm(encoder_inputs)\n",
        "encoder_states = [state_hidden, state_cell]\n",
        "\n",
        "#Decoder\n",
        "decoder_inputs = Input(shape=(None, num_decoder_tokens))\n",
        "decoder_lstm = LSTM(dimensionality, return_sequences=True, return_state=True, dropout=0.2)\n",
        "decoder_outputs, decoder_state_hidden, decoder_state_cell = decoder_lstm(decoder_inputs, initial_state=encoder_states)\n",
        "decoder_dense = Dense(num_decoder_tokens, activation='softmax')\n",
        "decoder_outputs = decoder_dense(decoder_outputs)"
      ],
      "metadata": {
        "id": "fXoiL94XlqVt"
      },
      "execution_count": 180,
      "outputs": []
    },
    {
      "cell_type": "code",
      "source": [
        "#Model\n",
        "training_model = Model([encoder_inputs, decoder_inputs], decoder_outputs)\n",
        "\n",
        "#Compiling\n",
        "training_model.compile(optimizer=opt, loss=\"categorical_crossentropy\", metrics=[\"AUC\"], sample_weight_mode='temporal')\n",
        "\n",
        "#Training\n",
        "fit_info = training_model.fit([encoder_input_data, decoder_input_data], decoder_target_data, batch_size = batch_size, epochs = epochs, validation_split = 0.2)\n"
      ],
      "metadata": {
        "id": "nK0eaXyelw4A"
      },
      "execution_count": null,
      "outputs": []
    },
    {
      "cell_type": "code",
      "source": [
        "model_name = \"chat_model_epochs_\" + str(epochs) + \".h5\"\n",
        "training_model.save(model_name)"
      ],
      "metadata": {
        "id": "2kMHK0WIvqNF"
      },
      "execution_count": 197,
      "outputs": []
    },
    {
      "cell_type": "code",
      "source": [
        "history_dict = fit_info.history\n",
        "loss_values = history_dict['loss'] \n",
        "val_loss_values = history_dict['val_loss'] \n",
        "auc_values = history_dict['auc'] \n",
        "val_auc_values = history_dict['val_auc'] \n",
        "\n",
        "plt.plot(np.arange(epochs), auc_values, color = 'b', label='Training AUC') \n",
        "plt.plot(np.arange(epochs), val_auc_values, color = 'r', label='Validation AUC') \n",
        "plt.title('Training and Validation AUC')\n",
        "plt.grid(color = 'black', linestyle = '--', linewidth = 0.5)\n",
        "plt.xlabel('Epochs')\n",
        "plt.ylabel('AUC')\n",
        "plt.legend(loc='lower right')\n",
        "plt.show()"
      ],
      "metadata": {
        "colab": {
          "base_uri": "https://localhost:8080/",
          "height": 295
        },
        "id": "3sYh_GABOdqN",
        "outputId": "06d30168-5aa8-4e5e-dab6-cbd3d1ee0fbb"
      },
      "execution_count": 196,
      "outputs": [
        {
          "output_type": "display_data",
          "data": {
            "text/plain": [
              "<Figure size 432x288 with 1 Axes>"
            ],
            "image/png": "[encoded data removed]"
          },
          "metadata": {
            "needs_background": "light"
          }
        }
      ]
    },
    {
      "cell_type": "code",
      "source": [
        "plt.plot(np.arange(epochs), loss_values, color = 'b', label='Training loss') \n",
        "plt.plot(np.arange(epochs), val_loss_values, color = 'r', label='Validation loss') \n",
        "plt.title('Training and Validation loss')\n",
        "plt.grid(color = 'black', linestyle = '--', linewidth = 0.5)\n",
        "plt.xlabel('Epochs')\n",
        "plt.ylabel('loss')\n",
        "plt.legend(loc='lower right')\n",
        "plt.show()"
      ],
      "metadata": {
        "colab": {
          "base_uri": "https://localhost:8080/",
          "height": 295
        },
        "id": "cQUQyhQjSzJM",
        "outputId": "20b8adfc-4062-4526-e4da-9cf452da75d3"
      },
      "execution_count": 195,
      "outputs": [
        {
          "output_type": "display_data",
          "data": {
            "text/plain": [
              "<Figure size 432x288 with 1 Axes>"
            ],
            "image/png": "[encoded data removed]"
          },
          "metadata": {
            "needs_background": "light"
          }
        }
      ]
    },
    {
      "cell_type": "code",
      "source": [
        "training_model = load_model(model_name)\n",
        "encoder_inputs = training_model.input[0]\n",
        "encoder_outputs, state_h_enc, state_c_enc = training_model.layers[2].output\n",
        "encoder_states = [state_h_enc, state_c_enc]\n",
        "encoder_model = Model(encoder_inputs, encoder_states)"
      ],
      "metadata": {
        "id": "8fT0AECUwAQR"
      },
      "execution_count": 186,
      "outputs": []
    },
    {
      "cell_type": "code",
      "source": [
        "latent_dim = 256\n",
        "decoder_state_input_hidden = Input(shape=(latent_dim,))\n",
        "decoder_state_input_cell = Input(shape=(latent_dim,))\n",
        "decoder_states_inputs = [decoder_state_input_hidden, decoder_state_input_cell]"
      ],
      "metadata": {
        "id": "UMvI-6tzwFxp"
      },
      "execution_count": 187,
      "outputs": []
    },
    {
      "cell_type": "code",
      "source": [
        "decoder_outputs, state_hidden, state_cell = decoder_lstm(decoder_inputs, initial_state=decoder_states_inputs)\n",
        "decoder_states = [state_hidden, state_cell]\n",
        "decoder_outputs = decoder_dense(decoder_outputs)"
      ],
      "metadata": {
        "id": "O-kUJpXbwIlW"
      },
      "execution_count": 188,
      "outputs": []
    },
    {
      "cell_type": "code",
      "source": [
        "decoder_model = Model([decoder_inputs] + decoder_states_inputs, [decoder_outputs] + decoder_states)"
      ],
      "metadata": {
        "id": "n7-O7bRMwMCW"
      },
      "execution_count": 189,
      "outputs": []
    },
    {
      "cell_type": "code",
      "source": [
        "def decode_response(test_input):\n",
        "    #Getting the output states to pass into the decoder\n",
        "    states_value = encoder_model.predict(test_input)\n",
        "    #Generating empty target sequence of length 1\n",
        "    target_seq = np.zeros((1, 1, num_decoder_tokens))\n",
        "    #Setting the first token of target sequence with the start token\n",
        "    target_seq[0, 0, target_features_dict['<START>']] = 1.\n",
        "    \n",
        "    #A variable to store our response word by word\n",
        "    decoded_sentence = ''\n",
        "    \n",
        "    stop_condition = False\n",
        "    while not stop_condition:\n",
        "          #Predicting output tokens with probabilities and states\n",
        "          output_tokens, hidden_state, cell_state = decoder_model.predict([target_seq] + states_value)\n",
        "    #Choosing the one with highest probability\n",
        "          sampled_token_index = np.argmax(output_tokens[0, -1, :])\n",
        "          sampled_token = reverse_target_features_dict[sampled_token_index]\n",
        "          decoded_sentence += \" \" + sampled_token\n",
        "    #Stop if hit max length or found the stop token\n",
        "          if (sampled_token == '<END>' or len(decoded_sentence) > max_decoder_seq_length):\n",
        "            stop_condition = True\n",
        "    #Update the target sequence\n",
        "          target_seq = np.zeros((1, 1, num_decoder_tokens))\n",
        "          target_seq[0, 0, sampled_token_index] = 1.\n",
        "          #Update states\n",
        "          states_value = [hidden_state, cell_state]\n",
        "    return decoded_sentence"
      ],
      "metadata": {
        "id": "sEDis3mewPn2"
      },
      "execution_count": 190,
      "outputs": []
    },
    {
      "cell_type": "code",
      "source": [
        "class ChatBot:\n",
        "  negative_responses = (\"não\", \"nao\")\n",
        "  exit_commands = (\"fechar\", \"sair\", \"adeus\", \"tchau\", \"até mais\", \"pare\")\n",
        "\n",
        "  def start_chat(self): #Method to start the conversation\n",
        "    user_response = input(\"Olá, sou um chatbot gerado para a disciplina de Deep Learning.\\nConverse comigo e eu farei o meu melhor para gerar uma resposta.\\nVocê > \")\n",
        "    \n",
        "    if user_response in self.negative_responses:\n",
        "      print(\"Ok, até mais!\")\n",
        "      return\n",
        "    self.chat(user_response)\n",
        "\n",
        "  def chat(self, reply): #Method to handle the conversation\n",
        "    while not self.make_exit(reply):\n",
        "      reply = input(self.generate_response(reply)+\"\")    \n",
        "  \n",
        "  def string_to_matrix(self, user_input): #Method to convert user input into a matrix\n",
        "    tokens = re.findall(r\"[\\w']+|[^\\s\\w]\", user_input)\n",
        "    user_input_matrix = np.zeros(\n",
        "      (1, max_encoder_seq_length, num_encoder_tokens),\n",
        "      dtype='float32')\n",
        "    for timestep, token in enumerate(tokens):\n",
        "      if token in input_features_dict:\n",
        "        user_input_matrix[0, timestep, input_features_dict[token]] = 1.\n",
        "    return user_input_matrix  \n",
        "  \n",
        "  def generate_response(self, user_input): #Method that will create a response using seq2seq model we built\n",
        "    input_matrix = self.string_to_matrix(user_input)\n",
        "    chatbot_response = decode_response(input_matrix)\n",
        "    #Remove <START> and <END> tokens from chatbot_response\n",
        "    chatbot_response = chatbot_response.replace(\"<START>\",'')\n",
        "    chatbot_response = chatbot_response.replace(\"<END>\",'')\n",
        "    chatbot_response = 'Bot > ' + chatbot_response + '\\nVocê > '\n",
        "    return chatbot_response\n",
        "\n",
        "  def make_exit(self, reply): #Method to check for exit commands\n",
        "    for exit_command in self.exit_commands:\n",
        "      if exit_command in reply:\n",
        "        print(\"Bot > Ok, até mais tarde...\")\n",
        "        return True\n",
        "    return False\n",
        "  \n",
        "chatbot = ChatBot()"
      ],
      "metadata": {
        "id": "nCEo3o2WwutC"
      },
      "execution_count": 194,
      "outputs": []
    },
    {
      "cell_type": "code",
      "source": [
        "chatbot.start_chat()"
      ],
      "metadata": {
        "id": "fPXPGMRUxRj2"
      },
      "execution_count": null,
      "outputs": []
    }
  ]
}